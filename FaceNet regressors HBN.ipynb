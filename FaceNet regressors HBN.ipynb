{
 "cells": [
  {
   "cell_type": "code",
   "execution_count": 12,
   "metadata": {},
   "outputs": [],
   "source": [
    "import pandas as pd\n",
    "import seaborn as sns\n",
    "import matplotlib.pyplot as plt\n",
    "from IPython.display import Image\n",
    "import imageio\n",
    "from pathlib import Path\n",
    "\n",
    "import embeddings\n",
    "import clustering\n",
    "import plotting\n",
    "from IPython.display import Image\n",
    "import numpy as np\n",
    "import pickle"
   ]
  },
  {
   "cell_type": "markdown",
   "metadata": {},
   "source": [
    "### Set up"
   ]
  },
  {
   "cell_type": "code",
   "execution_count": 13,
   "metadata": {},
   "outputs": [],
   "source": [
    "DATA_PATH = Path('/media/neuroscout-data/neuroscout/file_data/stimuli/')"
   ]
  },
  {
   "cell_type": "code",
   "execution_count": 14,
   "metadata": {},
   "outputs": [],
   "source": [
    "dataset_name = 'HealthyBrainNetwork'"
   ]
  },
  {
   "cell_type": "code",
   "execution_count": 15,
   "metadata": {},
   "outputs": [],
   "source": [
    "frames = pd.read_csv('/media/neuroscout-data/neuroscout/datasets/raw/HealthyBrainNetwork/stimuli/all_frames.csv')\n",
    "frame_paths = [str(DATA_PATH / Path(p).parts[-1]) for p in frames.path]"
   ]
  },
  {
   "cell_type": "markdown",
   "metadata": {},
   "source": [
    "### Detect faces"
   ]
  },
  {
   "cell_type": "code",
   "execution_count": 5,
   "metadata": {},
   "outputs": [
    {
     "name": "stderr",
     "output_type": "stream",
     "text": [
      "WARNING: Logging before flag parsing goes to stderr.\n",
      "W0805 16:48:22.173451 139871789197120 deprecation_wrapper.py:119] From /home/alejandro/repos/face_priming/src/facenet/facenet/src/align/detect_face.py:280: The name tf.variable_scope is deprecated. Please use tf.compat.v1.variable_scope instead.\n",
      "\n",
      "W0805 16:48:22.175383 139871789197120 deprecation_wrapper.py:119] From /home/alejandro/repos/face_priming/src/facenet/facenet/src/align/detect_face.py:281: The name tf.placeholder is deprecated. Please use tf.compat.v1.placeholder instead.\n",
      "\n"
     ]
    },
    {
     "name": "stdout",
     "output_type": "stream",
     "text": [
      "Creating networks and loading parameters\n"
     ]
    },
    {
     "name": "stderr",
     "output_type": "stream",
     "text": [
      "W0805 16:48:22.180758 139871789197120 deprecation_wrapper.py:119] From /home/alejandro/repos/face_priming/src/facenet/facenet/src/align/detect_face.py:125: The name tf.get_variable is deprecated. Please use tf.compat.v1.get_variable instead.\n",
      "\n",
      "W0805 16:48:22.183133 139871789197120 deprecation.py:506] From /home/alejandro/anaconda3/envs/tf_gpu_10/lib/python3.7/site-packages/tensorflow/python/ops/init_ops.py:1251: calling VarianceScaling.__init__ (from tensorflow.python.ops.init_ops) with dtype is deprecated and will be removed in a future version.\n",
      "Instructions for updating:\n",
      "Call initializer instance with the dtype argument instead of passing it to the constructor\n",
      "W0805 16:48:22.228967 139871789197120 deprecation_wrapper.py:119] From /home/alejandro/repos/face_priming/src/facenet/facenet/src/align/detect_face.py:177: The name tf.nn.max_pool is deprecated. Please use tf.nn.max_pool2d instead.\n",
      "\n",
      "W0805 16:48:22.347270 139871789197120 deprecation.py:323] From /home/alejandro/repos/face_priming/src/facenet/facenet/src/align/detect_face.py:213: div (from tensorflow.python.ops.math_ops) is deprecated and will be removed in a future version.\n",
      "Instructions for updating:\n",
      "Deprecated in favor of operator or tf.math.divide.\n",
      "W0805 16:48:23.559255 139871789197120 deprecation_wrapper.py:119] From /home/alejandro/repos/face_priming/src/facenet/facenet/src/align/detect_face.py:197: The name tf.nn.xw_plus_b is deprecated. Please use tf.compat.v1.nn.xw_plus_b instead.\n",
      "\n"
     ]
    },
    {
     "name": "stdout",
     "output_type": "stream",
     "text": [
      "Loading, cropping, and aligning\n"
     ]
    },
    {
     "data": {
      "application/vnd.jupyter.widget-view+json": {
       "model_id": "b2781202607546c7a8f9b13096052ba7",
       "version_major": 2,
       "version_minor": 0
      },
      "text/plain": [
       "HBox(children=(IntProgress(value=0, max=626), HTML(value='')))"
      ]
     },
     "metadata": {},
     "output_type": "display_data"
    },
    {
     "name": "stdout",
     "output_type": "stream",
     "text": [
      "\n"
     ]
    }
   ],
   "source": [
    "# Load data\n",
    "images_50, paths_50 = embeddings.load_detect_crop(frame_paths, minsize=50)"
   ]
  },
  {
   "cell_type": "code",
   "execution_count": 6,
   "metadata": {},
   "outputs": [
    {
     "data": {
      "text/plain": [
       "440"
      ]
     },
     "execution_count": 6,
     "metadata": {},
     "output_type": "execute_result"
    }
   ],
   "source": [
    "len(images_50)"
   ]
  },
  {
   "cell_type": "markdown",
   "metadata": {},
   "source": [
    "### Get embeddings"
   ]
  },
  {
   "cell_type": "code",
   "execution_count": 7,
   "metadata": {},
   "outputs": [
    {
     "name": "stderr",
     "output_type": "stream",
     "text": [
      "W0805 16:49:39.458298 139871789197120 deprecation_wrapper.py:119] From /home/alejandro/repos/face_priming/src/facenet/facenet/src/facenet.py:418: The name tf.train.import_meta_graph is deprecated. Please use tf.compat.v1.train.import_meta_graph instead.\n",
      "\n"
     ]
    },
    {
     "name": "stdout",
     "output_type": "stream",
     "text": [
      "Model directory: /home/alejandro/repos/face_priming/models/20180402-114759\n",
      "Metagraph file: model-20180402-114759.meta\n",
      "Checkpoint file: model-20180402-114759.ckpt-275\n"
     ]
    },
    {
     "name": "stderr",
     "output_type": "stream",
     "text": [
      "W0805 16:49:48.509068 139871789197120 deprecation.py:323] From /home/alejandro/anaconda3/envs/tf_gpu_10/lib/python3.7/site-packages/tensorflow/python/training/queue_runner_impl.py:391: QueueRunner.__init__ (from tensorflow.python.training.queue_runner_impl) is deprecated and will be removed in a future version.\n",
      "Instructions for updating:\n",
      "To construct input pipelines, use the `tf.data` module.\n",
      "W0805 16:49:48.555246 139871789197120 deprecation_wrapper.py:119] From /home/alejandro/repos/face_priming/src/facenet/facenet/src/facenet.py:419: The name tf.get_default_session is deprecated. Please use tf.compat.v1.get_default_session instead.\n",
      "\n",
      "W0805 16:49:48.556152 139871789197120 deprecation.py:323] From /home/alejandro/anaconda3/envs/tf_gpu_10/lib/python3.7/site-packages/tensorflow/python/training/saver.py:1276: checkpoint_exists (from tensorflow.python.training.checkpoint_management) is deprecated and will be removed in a future version.\n",
      "Instructions for updating:\n",
      "Use standard file APIs to check for files with this prefix.\n"
     ]
    },
    {
     "name": "stdout",
     "output_type": "stream",
     "text": [
      "Calculating embeddings...\n"
     ]
    },
    {
     "data": {
      "application/vnd.jupyter.widget-view+json": {
       "model_id": "732fd1f2c0334e3181642d62f7d4ee5f",
       "version_major": 2,
       "version_minor": 0
      },
      "text/plain": [
       "HBox(children=(IntProgress(value=0, max=1), HTML(value='')))"
      ]
     },
     "metadata": {},
     "output_type": "display_data"
    },
    {
     "name": "stdout",
     "output_type": "stream",
     "text": [
      "\n"
     ]
    }
   ],
   "source": [
    "embs_50 = embeddings.get_embeddings(images_50)"
   ]
  },
  {
   "cell_type": "code",
   "execution_count": 16,
   "metadata": {},
   "outputs": [],
   "source": [
    "#Save intermediary\n",
    "save_path = Path('/media/neuroscout-data/scratch/face_priming_save/')\n",
    "# pickle.dump(embs_50, (save_path / f'{dataset_name}_embs_50.pkl').open('wb'))\n",
    "# pickle.dump(paths_50, (save_path / f'{dataset_name}_paths_50.pkl').open('wb'))\n",
    "# pickle.dump(\n",
    "#     images_50, (save_path / f'{dataset_name}_cropped_images_50.pkl').open('wb'), \n",
    "#     protocol=4)"
   ]
  },
  {
   "cell_type": "code",
   "execution_count": 17,
   "metadata": {},
   "outputs": [],
   "source": [
    "embs_50 = pickle.load((save_path / f'{dataset_name}_embs_50.pkl').open('rb'))\n",
    "paths_50 = pickle.load((save_path / f'{dataset_name}_paths_50.pkl').open('rb'))\n",
    "images_50 = pickle.load((save_path / f'{dataset_name}_cropped_images_50.pkl').open('rb'))"
   ]
  },
  {
   "cell_type": "markdown",
   "metadata": {},
   "source": [
    "### Cluster images"
   ]
  },
  {
   "cell_type": "code",
   "execution_count": 11,
   "metadata": {},
   "outputs": [],
   "source": [
    "clusters50_67 = clustering.chinese_whispers(paths_50, images_50, embs_50, threshold=0.67)"
   ]
  },
  {
   "cell_type": "code",
   "execution_count": 12,
   "metadata": {},
   "outputs": [],
   "source": [
    "pickle.dump(clusters50_67, (save_path / 'hbn_clusters50_67.pkl').open('wb'))"
   ]
  },
  {
   "cell_type": "code",
   "execution_count": null,
   "metadata": {},
   "outputs": [],
   "source": [
    "plotting.plot_clusters(clusters50_67, n_sample=40, figsize=(80, 80), outfile=f'plots/{dataset_name}_cw_t_067_min50.png')"
   ]
  },
  {
   "cell_type": "markdown",
   "metadata": {},
   "source": [
    "# Create predictors"
   ]
  },
  {
   "cell_type": "code",
   "execution_count": 18,
   "metadata": {},
   "outputs": [],
   "source": [
    "clusters50_67 = pickle.load((save_path / 'hbn_clusters50_67.pkl').open('rb'))"
   ]
  },
  {
   "cell_type": "markdown",
   "metadata": {},
   "source": [
    "#### Fine grained face detection"
   ]
  },
  {
   "cell_type": "code",
   "execution_count": 19,
   "metadata": {},
   "outputs": [],
   "source": [
    "from importlib import reload\n",
    "import regressors"
   ]
  },
  {
   "cell_type": "code",
   "execution_count": 20,
   "metadata": {},
   "outputs": [],
   "source": [
    "frames['cond'] = 1\n",
    "frames['run_number'] = 1"
   ]
  },
  {
   "cell_type": "code",
   "execution_count": 11,
   "metadata": {},
   "outputs": [],
   "source": [
    "output = regressors.prepare_regressors(frames, paths_50, clusters50_67, bad_clusters=[])"
   ]
  },
  {
   "cell_type": "code",
   "execution_count": 22,
   "metadata": {},
   "outputs": [],
   "source": [
    "select = output[['original_stim', 'onset', 'duration', 'face_count', 'any_faces', \n",
    "                'first_time_face', 'log_mean_time_since', 'log_max_time_since', \n",
    "                 'log_mean_face_time_cum', 'log_max_face_time_cum']]\n",
    "event_files = []\n",
    "for i, x in select.groupby('original_stim'):\n",
    "    df = x.drop(columns=['original_stim'])\n",
    "    fname = f'/home/alejandro/datasets/raw/{dataset_name}/stimuli/facenet/facenet_min50_t60_stim_{i}.tsv'\n",
    "    df.to_csv(fname, sep='\\t', index=False)\n",
    "    event_files.append(fname)"
   ]
  },
  {
   "cell_type": "code",
   "execution_count": 30,
   "metadata": {},
   "outputs": [],
   "source": [
    "top_faces = output[['original_stim', 'onset', 'duration'] + [f\"id_{str(i)}\" for i in range(1, 11)]]\n",
    "top_event_files = []\n",
    "for i, x in top_faces.groupby('original_stim'):\n",
    "    df = x.drop(columns=['original_stim'])\n",
    "    fname = f'/home/alejandro/datasets/raw/{dataset_name}/stimuli/facenet/facenet_min50_t60_stim_{i}.tsv'\n",
    "    df.to_csv(fname, sep='\\t', index=False)\n",
    "    top_event_files.append(fname)"
   ]
  },
  {
   "cell_type": "code",
   "execution_count": 39,
   "metadata": {},
   "outputs": [
    {
     "data": {
      "text/plain": [
       "['/home/alejandro/datasets/raw/HealthyBrainNetwork/stimuli/facenet/facenet_min50_t60_stim_despicable.me.transcode.mkv.tsv']"
      ]
     },
     "execution_count": 39,
     "metadata": {},
     "output_type": "execute_result"
    }
   ],
   "source": [
    "top_event_files"
   ]
  },
  {
   "cell_type": "markdown",
   "metadata": {},
   "source": [
    "### Upload"
   ]
  },
  {
   "cell_type": "code",
   "execution_count": 31,
   "metadata": {},
   "outputs": [],
   "source": [
    "import pyns"
   ]
  },
  {
   "cell_type": "code",
   "execution_count": 32,
   "metadata": {},
   "outputs": [],
   "source": [
    "descriptions = {\n",
    "    \"face_count\": \"Number of faces detected\",\n",
    "    \"any_faces\": \"Binary indicator of face detection\",\n",
    "    \"first_time_face\": \"First time a face is seen\",\n",
    "    \"log_mean_time_since\": \"Time since last seen (mean b/w chars)\",\n",
    "    \"log_max_time_since\": \"Time since last seen (max b/w chars)\",\n",
    "    \"log_max_face_time_cum\": \"Cummulative time face seen (max b/w chars)\",\n",
    "    \"log_mean_face_time_cum\": \"Cummulative time face seen (mean b/w chars)\"\n",
    "}"
   ]
  },
  {
   "cell_type": "code",
   "execution_count": 33,
   "metadata": {},
   "outputs": [],
   "source": [
    "api = pyns.Neuroscout()"
   ]
  },
  {
   "cell_type": "code",
   "execution_count": 34,
   "metadata": {},
   "outputs": [
    {
     "data": {
      "text/plain": [
       "9"
      ]
     },
     "execution_count": 34,
     "metadata": {},
     "output_type": "execute_result"
    }
   ],
   "source": [
    "api.datasets.get()[1]['id']"
   ]
  },
  {
   "cell_type": "code",
   "execution_count": 35,
   "metadata": {},
   "outputs": [],
   "source": [
    "dataset_id = 8\n",
    "all_runs = api.runs.get(dataset_id=dataset_id)\n"
   ]
  },
  {
   "cell_type": "code",
   "execution_count": 36,
   "metadata": {},
   "outputs": [],
   "source": [
    "formatted_runs = [[r['id'] for r in all_runs]]"
   ]
  },
  {
   "cell_type": "code",
   "execution_count": 46,
   "metadata": {},
   "outputs": [
    {
     "data": {
      "text/plain": [
       "{'collection_name': 'hbm_facenet_cw_min50_t67',\n",
       " 'id': 19,\n",
       " 'predictors': [],\n",
       " 'status': 'PENDING',\n",
       " 'traceback': None,\n",
       " 'uploaded_at': '2019-08-05T22:0'}"
      ]
     },
     "execution_count": 46,
     "metadata": {},
     "output_type": "execute_result"
    }
   ],
   "source": [
    "api.predictors.create_collection(\n",
    "    'hbm_facenet_cw_min50_t67', dataset_id, formatted_runs, event_files, descriptions)"
   ]
  },
  {
   "cell_type": "code",
   "execution_count": 49,
   "metadata": {},
   "outputs": [
    {
     "data": {
      "text/plain": [
       "{'collection_name': 'hbm_facenet_cw_min50_t67',\n",
       " 'id': 19,\n",
       " 'predictors': [{'id': 19350, 'name': 'log_mean_face_time_cum'}],\n",
       " 'status': 'PENDING',\n",
       " 'traceback': None,\n",
       " 'uploaded_at': '2019-08-05T22:0'}"
      ]
     },
     "execution_count": 49,
     "metadata": {},
     "output_type": "execute_result"
    }
   ],
   "source": [
    "api.predictors.get_collection(19)"
   ]
  },
  {
   "cell_type": "code",
   "execution_count": 45,
   "metadata": {},
   "outputs": [
    {
     "name": "stderr",
     "output_type": "stream",
     "text": [
      "/home/alejandro/anaconda3/envs/tf_gpu_10/lib/python3.7/site-packages/ipykernel_launcher.py:1: FutureWarning: read_table is deprecated, use read_csv instead, passing sep='\\t'.\n",
      "  \"\"\"Entry point for launching an IPython kernel.\n"
     ]
    },
    {
     "data": {
      "text/plain": [
       "onset       599.557292\n",
       "duration      0.959292\n",
       "id_1          1.000000\n",
       "id_2          1.000000\n",
       "id_3          1.000000\n",
       "id_4          1.000000\n",
       "id_5          1.000000\n",
       "id_6          1.000000\n",
       "id_7          1.000000\n",
       "id_8          1.000000\n",
       "id_9          1.000000\n",
       "id_10         1.000000\n",
       "dtype: float64"
      ]
     },
     "execution_count": 45,
     "metadata": {},
     "output_type": "execute_result"
    }
   ],
   "source": [
    "pd.read_table(top_event_files[0]).max()"
   ]
  },
  {
   "cell_type": "code",
   "execution_count": 38,
   "metadata": {},
   "outputs": [
    {
     "data": {
      "text/plain": [
       "{'collection_name': 'hbn_facenet_cw_min50_t67_top_faces',\n",
       " 'id': 39,\n",
       " 'predictors': [],\n",
       " 'status': 'PENDING',\n",
       " 'traceback': None,\n",
       " 'uploaded_at': '2019-09-13T18:3'}"
      ]
     },
     "execution_count": 38,
     "metadata": {},
     "output_type": "execute_result"
    }
   ],
   "source": [
    "api.predictors.create_collection(\n",
    "    'hbn_facenet_cw_min50_t67_top_faces', dataset_id, formatted_runs, top_event_files, descriptions)"
   ]
  },
  {
   "cell_type": "code",
   "execution_count": 40,
   "metadata": {},
   "outputs": [
    {
     "data": {
      "text/plain": [
       "{'collection_name': 'hbn_facenet_cw_min50_t67_top_faces',\n",
       " 'id': 39,\n",
       " 'predictors': [{'id': 19835, 'name': 'id_3'},\n",
       "  {'id': 19836, 'name': 'id_4'},\n",
       "  {'id': 19837, 'name': 'id_10'},\n",
       "  {'id': 19838, 'name': 'id_5'},\n",
       "  {'id': 19839, 'name': 'id_6'},\n",
       "  {'id': 19840, 'name': 'id_8'},\n",
       "  {'id': 19841, 'name': 'id_7'},\n",
       "  {'id': 19842, 'name': 'id_9'},\n",
       "  {'id': 19843, 'name': 'id_2'},\n",
       "  {'id': 19844, 'name': 'id_1'}],\n",
       " 'status': 'OK',\n",
       " 'traceback': None,\n",
       " 'uploaded_at': '2019-09-13T18:3'}"
      ]
     },
     "execution_count": 40,
     "metadata": {},
     "output_type": "execute_result"
    }
   ],
   "source": [
    "api.predictors.get_collection(39)"
   ]
  },
  {
   "cell_type": "code",
   "execution_count": null,
   "metadata": {},
   "outputs": [],
   "source": []
  }
 ],
 "metadata": {
  "kernelspec": {
   "display_name": "Python 3",
   "language": "python",
   "name": "python3"
  },
  "language_info": {
   "codemirror_mode": {
    "name": "ipython",
    "version": 3
   },
   "file_extension": ".py",
   "mimetype": "text/x-python",
   "name": "python",
   "nbconvert_exporter": "python",
   "pygments_lexer": "ipython3",
   "version": "3.7.3"
  }
 },
 "nbformat": 4,
 "nbformat_minor": 2
}
